{
 "cells": [
  {
   "cell_type": "markdown",
   "metadata": {},
   "source": [
    "# Chapter 9 - Files and Exceptions\n",
    "Notebook by: Lindsey Sullivan\n",
    "\n",
    "- [Files](#Files)\n",
    "- [Text-File Processing](#Text-File-Processing)\n",
    "- [Updating Text Files](#Updating-Text-Files) \n",
    "- [Serialization with JSON](#Serialization-with-JSON)\n",
    "- [pickle Serialization and Deserialization](#pickle-Serialization-and-Deserialization)\n",
    "- [Additional Notes Regarding Files](#Additional-Notes-Regarding-Files)\n",
    "- [Handling Exceptions](#Handling-Exceptions)\n",
    "- [finally Clause](#finally-Clause)\n",
    "- [Explicitly Raising an Exception](#Explicitly-Raising-an-Exception)\n"
   ]
  },
  {
   "cell_type": "markdown",
   "metadata": {},
   "source": [
    "## Files"
   ]
  },
  {
   "cell_type": "markdown",
   "metadata": {},
   "source": [
    "- Python views a **text file** as a sequence of characters and a **binary file** as a sequence of bytes. \n",
    "- Similar to lists, the first character in a text file and byte in binary file is located at positon 0.\n",
    "- each file you **open**, python creates a **file object** that you'll use to interact with the file. \n",
    "\n",
    "### End of file\n",
    "- **End-of0file marker** : denotes the end of a file.\n",
    "\n",
    "### Standard File Objects\n",
    "- Python creates 3 **standard file objects**:\n",
    " - sys.stdin - standard input file object\n",
    " - sys.stdout - standard output file\n",
    " - sys.stderr - standard error file"
   ]
  },
  {
   "cell_type": "markdown",
   "metadata": {},
   "source": [
    "## Text-File Processing"
   ]
  },
  {
   "cell_type": "markdown",
   "metadata": {},
   "source": [
    "- write(): writes to file, you may also use print()\n",
    "### with Statement\n",
    "- aquires resources and assigns its cooresponding object to a variable.\n",
    "- allows the application to use the resource via that variable. \n",
    "- calls the resource objects *close* method to release the resource when program control reaches the end of the *with* statement's suite\n",
    "### open Function\n",
    "- **open()** opens the text file and associates with a file object.\n",
    "- the mode '*w*' opens the file for wirting, creating the file if it does not exist. \n",
    "### Writing to the file\n",
    "- write()\n",
    "- close(): closes the file\n",
    "\n",
    "#### Self Check\n",
    "1. The _*with*__ implicitly releases resources when its suite finishes executing.\n",
    "2. True/False - it's good practice to keep resources open until your program terminates. \n",
    "    *False* - It's good practice to close resources as soon as the program no longer needs them. \n",
    "3. Create a grades.txt file and write to it the following three recourds consisting of student IDs, last names and grades:"
   ]
  },
  {
   "cell_type": "code",
   "execution_count": 1,
   "metadata": {},
   "outputs": [],
   "source": [
    "with open ('grades.txt', mode='w') as grades:\n",
    "    grades.write('1 Red A\\n')\n",
    "    grades.write('2 Green B\\n')\n",
    "    grades.write('3 White A\\n')"
   ]
  },
  {
   "cell_type": "markdown",
   "metadata": {},
   "source": [
    "### Reading Data from a Text File\n",
    "- method **readlines** can be used to read an entire textfile\n",
    "- while reading through a file, the system maintains a **file-position panter** representingthe lcoation of the next character to read.\n",
    "    - to reposition the file-position pointer you can use the **seek** method\n",
    "#### Self Check\n",
    "1. A file object's _#seek*_ method can be used to reposition the file-position pointer.\n",
    "2. True/False - By default, iterating through a file object with a *for* statement reads one line at a time fromt eh file and returns it as a string. \n",
    "3. Read the file grades.txt that you created in the previous self check and display it in columns with the columns heads 'ID', 'Name' and 'Grade'."
   ]
  },
  {
   "cell_type": "code",
   "execution_count": 4,
   "metadata": {},
   "outputs": [
    {
     "name": "stdout",
     "output_type": "stream",
     "text": [
      "ID  Name   Grade\n",
      "1   Red    A\n",
      "2   Green  B\n",
      "3   White  A\n"
     ]
    }
   ],
   "source": [
    "with open('grades.txt','r') as grades:\n",
    "    print(f'{\"ID\":<4}{\"Name\":<7}{\"Grade\"}')\n",
    "    for record in grades:\n",
    "        student_id, name, grade = record.split()\n",
    "        print(f'{student_id:<4}{name:<7}{grade}')"
   ]
  },
  {
   "cell_type": "markdown",
   "metadata": {},
   "source": [
    "## Updating Text Files\n",
    "Updating accounts.txt with the example below - uses a with statement to update thea ccounts.txt file to change account 300's name from 'White' to 'Williams' as described above."
   ]
  },
  {
   "cell_type": "code",
   "execution_count": 6,
   "metadata": {},
   "outputs": [],
   "source": [
    "with open('accounts.txt', mode='w') as accounts:\n",
    "    accounts.write('100 Jones 24.98 \\n')\n",
    "    accounts.write('200 Doe 345.67\\n')\n",
    "    accounts.write('300 White 0.00\\n')\n",
    "    accounts.write('400 Stone -42.16\\n')\n",
    "    accounts.write('500 Rich 224.62\\n')"
   ]
  },
  {
   "cell_type": "code",
   "execution_count": 12,
   "metadata": {},
   "outputs": [],
   "source": [
    "accounts = open('accounts.txt','r')\n",
    "temp_file = open('temp_file.txt','w')\n",
    "with accounts, temp_file:\n",
    "    for record in accounts:\n",
    "        account, name, balance = record.split()\n",
    "        if account != '300':\n",
    "            temp_file.write(record)\n",
    "        else:\n",
    "            new_record = ' '.join([account, 'Williams',balance])\n",
    "            temp_file.write(new_record + '\\n')"
   ]
  },
  {
   "cell_type": "markdown",
   "metadata": {},
   "source": [
    "### os Module File-Processing Functions\n",
    "- *os module* provides functions of interacting with the operating system.\n",
    "- *remove function* to delete the original file\n",
    "- *rename function* to rename the temporary file\n",
    "\n",
    "#### Self Check\n",
    "1. The os module's _*remove*_ and _*rename*_ functions delete a file and specify a new name for a file,respectively.\n",
    "2. True/False - Formatted data in a text fiel can be updated in place because records and their fields are fixed in size. \n",
    "    - False. Such data cannot be modified withou the risk of destroying other data in the file, because records and their fields can vary in size. \n",
    "3. In the accounts.txt file, update hte last name 'doe' to 'Smith'"
   ]
  },
  {
   "cell_type": "code",
   "execution_count": 13,
   "metadata": {},
   "outputs": [],
   "source": [
    "accounts = open('accounts.txt','r')\n",
    "temp_file = open('temp_file.txt','w')\n",
    "with accounts, temp_file:\n",
    "    for record in accounts:\n",
    "        account, name, balance = record.split()\n",
    "        if name != 'Doe':\n",
    "            temp_file.write(record)\n",
    "        else:\n",
    "            new_record=' '.join([account, 'Smith', balance])\n",
    "            temp_file.write(new_record + '\\n')"
   ]
  },
  {
   "cell_type": "markdown",
   "metadata": {},
   "source": [
    "## Serialization with JSON\n",
    "- JSON objects are similar to Python dictionaries. JSON object contains a comma-seperated list of property names and values in curly braces.\n",
    "- JSON also supports arrays\n",
    "- The **JSON Module** enables you to convert objects to JSON text format aka **seralizing** the dat. \n"
   ]
  },
  {
   "cell_type": "code",
   "execution_count": null,
   "metadata": {},
   "outputs": [],
   "source": [
    "accounts_dict = {'accounts' : [{'account': 100, 'name' : 'Jones', 'balance' : 24.98},{'account':200, 'name': 'Doe', 'balance' : 345.67}]}"
   ]
  },
  {
   "cell_type": "code",
   "execution_count": null,
   "metadata": {},
   "outputs": [],
   "source": [
    "import json\n",
    "\n",
    "with open('accounts.json','w') as accounts:\n",
    "    json.dump(accounts_dict, accounts)"
   ]
  },
  {
   "cell_type": "markdown",
   "metadata": {},
   "source": [
    "- JSON module **dump()** seralizes the dictionary account_dict into the file\n",
    "- JSON module **load()** reads the entire JSON contents of its file object argument and converts the JSON into python object aka **de-seralizing** the data.\n",
    "- **dumps** returns a Python string representation of an object in JSON format\n",
    "#### Self Check\n",
    "1. Coverting objects to JSON text format is known as _*seraliziation*_ and reconstructing the original Python object fromt he JSON text is known as _*deseralization*_.\n",
    "2. True/False - JSON is both a human-readable and computer-readable format that makes it convenient to tsend and recive objects across the Internet.\n",
    "    - **True**\n",
    "3. Create a JSON file named grades.json and write into it the following dictionary"
   ]
  },
  {
   "cell_type": "code",
   "execution_count": null,
   "metadata": {},
   "outputs": [],
   "source": [
    "import json\n",
    "grades_dict = {'gradebook': [{'student_id': 1, 'name': 'Red', 'grade': 'A'}, {'student_id': 2, 'name' : 'Green', 'grade': 'B'}, {'student_id': 3, 'name': 'White', 'grade':'A'}]}\n",
    "\n",
    "with open('grades.json','w') as grades: \n",
    "    json.dump(grades_dict, grades)\n",
    "with open('grades.json','r') as grades:\n",
    "    print(json.dumps(json.load(grades), indent=4))"
   ]
  },
  {
   "cell_type": "markdown",
   "metadata": {},
   "source": [
    "## pickle Serialization and Deserialization\n",
    "- **pickle module** can seralize objects into a python-specific data format. \n",
    "    - picke files can be hacked. If you receive a raw pickle file over the network, do not trust it. It could have malicious code in it that would run arbitrary Python when you try to de-pickle it. \n",
    "    - Do not recommend using pickle but it has been used for many years, so you're likely to encounter it in legacy code. "
   ]
  },
  {
   "cell_type": "markdown",
   "metadata": {},
   "source": [
    "## Additional Notes Regarding Files\n",
    "- 'r' : open a text for reading\n",
    "- 'w' : open a text file for writing, existing file contents are deleted. \n",
    "- 'a' : open a text file for appending at the end, creating the file if it does not exist. New data is written at the end of the file. \n",
    "- 'r+' : open a text file reading and writing\n",
    "- 'w+' : open a text file reading and writing. Existing file ocntents are deleted.\n",
    "- 'a+' : open a text file reading and appending at the end. New data is written at the end of the file. If the file does not exist itis created. "
   ]
  },
  {
   "cell_type": "markdown",
   "metadata": {},
   "source": [
    "## Handling Exceptions"
   ]
  },
  {
   "cell_type": "markdown",
   "metadata": {},
   "source": [
    "- **FileNotFoundError** occurs if you attempt to open a non-existent file for reading. \n",
    "- **PermissionsError** occurs if you attempt an operation for which you do not have permission. \n",
    "- ValueError occurs when you attempt to write to a file that has already been closed. \n",
    "- When an error is raised it is said to **raise an exception**\n",
    "\n",
    "### try Statements\n",
    "- try Clause\n",
    "- try statements to enable exception handling.\n",
    "    - **try Clause** : a suite statement that *might* raise exceptions\n",
    "### except Clause\n",
    "- try clause may be followed by one or more **except clauses** that immediately follow the try clause's suite. Known as exception handlers.\n",
    "### else Clause\n",
    "- option **else clause** specifies code that should execute only if the code in the try suite did not raise exceptions. \n",
    "- point at which an exceoption occurs is called a **raise point**\n",
    "- catching multiple exceptions in one except clause\n",
    "- except(type1,type2,...) as *variable_name*;\n",
    "\n",
    "#### Self Check\n",
    "1. The statement that raises an exception is sometimes called the _*raise point*_ of the exception\n",
    "2. True/False - In Python, it's possible to return to the raise point of an exception via keyword return. \n",
    "    - **False** Program control continues from the first statement after the try statement in which the exception was handled. \n",
    "3. Before executing the IPython session, determine what the following function displays if you call it iwith a value of 10.7 then the value 'Python'?"
   ]
  },
  {
   "cell_type": "code",
   "execution_count": null,
   "metadata": {},
   "outputs": [],
   "source": [
    "def try_it(value):\n",
    "    try:\n",
    "        x = int(value)\n",
    "    except ValueError:\n",
    "        print(f'{value} could not be converted to an integer')\n",
    "        else:\n",
    "            print(f'int({value}) is {x}')\n",
    "\n",
    "try_it(10.7)\n",
    "try_it('Python')"
   ]
  },
  {
   "cell_type": "markdown",
   "metadata": {},
   "source": [
    "## finally Clause"
   ]
  },
  {
   "cell_type": "markdown",
   "metadata": {},
   "source": [
    "- closing the file help prevents a **resource leak**\n",
    "- The **finally clause** is guaranteed to execute *regardless* of whether its try suite executes successfully or an exception occurs.\n",
    "\n",
    "#### Self Check\n",
    "1. True/False - If a finally clause appears in a function, that finally clause is guarnateed to execute when the function executes, regardless of whether the function raises an exception. \n",
    "    - **False** The finally clause will execute only if program control enters the corresponding try suite.\n",
    "2. Closing a file helps prevent a _*resource leak*_ in which the file resource is not available to other programs because a program using the file never closes it. "
   ]
  },
  {
   "cell_type": "markdown",
   "metadata": {},
   "source": [
    "## Explicitly Raising an Exception\n",
    "- the **raise statement** explicitly raises an exception.\n",
    "\n",
    "#### Self Check\n",
    "1. Use the _*raise*_ statement to indicate that a problem occurred at execution time. "
   ]
  },
  {
   "cell_type": "markdown",
   "metadata": {},
   "source": [
    "# Chapter 17 - Big Data: Hadoop, Spark, NoSQL and IoT\n",
    "- [Databases](#Databases)\n",
    "- [Relational Databases and Structured Query Language](#Relational-Databases-and-Structured-Query-Language)\n",
    "- [Viewing Contents](#Viewing-Contents)\n",
    "- [SQL Keywords](#SQL-Keywords)\n"
   ]
  },
  {
   "cell_type": "markdown",
   "metadata": {},
   "source": [
    "## Databases"
   ]
  },
  {
   "cell_type": "markdown",
   "metadata": {},
   "source": [
    "- **Relational databases** - store **structure data** in tables with a fixed-size number of columns per row\n",
    "    - manipulated with **SQL**\n",
    "- Most data today is **unstructured data** like Facebook posts and tweets, or **semi-structured** like JSON and XML documents. \n",
    "- Big data is handled by new databases:\n",
    "    - **NoSQL Databases** - key, value, document, columnar and graph databooks.\n",
    "\n",
    "#### Self Check\n",
    "1. _*Relational*_ databases store structured data in tables with a fixed-size number of columns per row and manipulated via Structure Query Language. \n",
    "2. Most data produced today is _*unstructured*_ data, like the content of Facebook posts and Twitter tweets, or _*semi-structured*_ data like JSON and SML documents. \n",
    "3. Cloud vendors focus on _*service-oriented architecture (SOA)*_ technology in which they provide \"as-a-Service\" capabilities that applications connect to and use in the cloud. "
   ]
  },
  {
   "cell_type": "markdown",
   "metadata": {},
   "source": [
    "## Relational Databases and Structured Query Language"
   ]
  },
  {
   "cell_type": "markdown",
   "metadata": {},
   "source": [
    "- SQL is used almost universally with relational database systems to manipulate data and perform queries, which request information that satisfies given criteria.\n",
    "- Tables are composed of **rows**, each describing a single entity. Rows are composed of **columns** containing individual attribute values. **Primary key** - a unique value for each row.\n",
    "\n",
    "#### Self Check\n",
    "1. A table in a relational database consists of _*rows*_ and _*columns*_.\n",
    "2. The _*primary*_ key uniquely identifies each record in a table. \n",
    "3. True/False - Python's Database Application Programming Interface (DB-API) specifies common object and method names for manipulating any database. \n",
    "    - **True**\n",
    "\n",
    "### Using SQLite3 module to seetup a relational database in sqlite. \n",
    "- **CRUD** operations: create, read, update, and delete. \n",
    "- Connecting to the Database in Python\n",
    "    import sqlite3\n",
    "    connection = sqlite3.connect('books.db')\n",
    "- To work in python you must connect via **contect function** and **connection object**\n",
    "\n",
    "### Viewing Contents"
   ]
  },
  {
   "cell_type": "code",
   "execution_count": 3,
   "metadata": {},
   "outputs": [],
   "source": [
    "import sqlite3\n",
    "\n",
    "connection = sqlite3.connect('books.db')\n",
    "\n",
    "import pandas as pd\n",
    "\n",
    "pd.options.display.max_columns = 10\n",
    "\n",
    "pd.read_sql('SELECT * FROM authors', connection, index_col=['id'])"
   ]
  },
  {
   "cell_type": "markdown",
   "metadata": {},
   "source": [
    "- Pandas function **read_sql** executes a SQL query and returns a DataFrame containing the query's results. \n",
    "- **SELECT** query gets rows and columns from one or more tables\n",
    "- **(*) wildcard** = all\n",
    "- **FROM** specifies where\n",
    "\n",
    "- Every **foreign-key** (column that matches the primary in another table) must appear as a primary-key in a row of another table is the **rule of referential integrity**\n",
    "- Foreign keys also allow related data in multiple tables to be selected and combined known as **joinin**.\n",
    "    - Primary -> Foregin have a **one to many relationship**.\n",
    "- Through the creation of multiple tables it can allow **many-to-many relationship**. \n",
    "\n",
    "### SQL Keywords\n",
    "- SELECT\n",
    "    - Retreives data from one or many tables\n",
    "- FROM\n",
    "    - Specifies tables, required in every SELECT\n",
    "- WHERE\n",
    "    - Criteria for selection - optional\n",
    "- GROUP BY\n",
    "    - Criteria for grouping - optional\n",
    "- ORDER BY\n",
    "    - Criteria for ordering rows - optional\n",
    "- INNER JOIN\n",
    "    - Merge rows from multiple tables\n",
    "- INSERT\n",
    "    - Insert rows into specified table\n",
    "- UPDATE\n",
    "    - Update rows in specified table\n",
    "- DELETE\n",
    "    - Delete rows froma  specified table\n",
    "- LIKE\n",
    "    - Used for pattern matching (clause for WHERE)\n",
    "- ON\n",
    "    - Uses primary key and foreign key to determine rows to merge from each table (join clause)\n",
    "- NOT\n",
    "    - Reverses WHERE\n",
    "\n",
    "#### Self Check\n",
    "1. SQL keyword _*WHERE*_ is followed by the selection criteria that specify the records to select in a query. \n",
    "2. SQL keyword _*ORDER BY*_ specifies the order in which records are sorted in a query. \n",
    "3. A _*qualified name*_ specifies the fields from multiple tables that should be compared to join the tables. \n"
   ]
  },
  {
   "cell_type": "markdown",
   "metadata": {},
   "source": []
  }
 ],
 "metadata": {
  "kernelspec": {
   "display_name": "Python 3.9.12 ('base')",
   "language": "python",
   "name": "python3"
  },
  "language_info": {
   "codemirror_mode": {
    "name": "ipython",
    "version": 3
   },
   "file_extension": ".py",
   "mimetype": "text/x-python",
   "name": "python",
   "nbconvert_exporter": "python",
   "pygments_lexer": "ipython3",
   "version": "3.9.12"
  },
  "orig_nbformat": 4,
  "vscode": {
   "interpreter": {
    "hash": "f040464a7bacfd18d64ed368a243c21abbbcc489797c3972d198c610af4c478c"
   }
  }
 },
 "nbformat": 4,
 "nbformat_minor": 2
}
